{
 "cells": [
  {
   "cell_type": "markdown",
   "metadata": {},
   "source": [
    "## 시험 인증: 데이터 품질 성능(정규성 위배율) 및 데이터 품질 향상도\n",
    "\n",
    "정규성 위배율 측정 및 보정 도구 라이브러리 Import "
   ]
  },
  {
   "cell_type": "code",
   "execution_count": null,
   "metadata": {
    "id": "64cfec5b"
   },
   "outputs": [],
   "source": [
    "import norm_violation as nv"
   ]
  },
  {
   "cell_type": "markdown",
   "metadata": {
    "id": "BIDA_Lr5iKa7"
   },
   "source": [
    "### 시험 항목: 데이터 품질 성능(정규성 위배율)\n",
    "\n",
    "height_org.csv (공공데이터포털 제공 전국고등학생 키(신장) 데이터) 의 정규성 위배율 측정"
   ]
  },
  {
   "cell_type": "code",
   "execution_count": null,
   "metadata": {
    "colab": {
     "base_uri": "https://localhost:8080/"
    },
    "id": "16fcc22a",
    "outputId": "81b8fb44-a56a-4f40-e99b-f36e9f8972bd"
   },
   "outputs": [],
   "source": [
    "nv.get_normality_violation('height_org.csv')"
   ]
  },
  {
   "cell_type": "markdown",
   "metadata": {
    "id": "vs7SkNWBiDow"
   },
   "source": [
    "### 시험 항목: 데이터 품질 향상도(정규성 위배율)\n",
    "\n",
    "보정 전 데이터셋(height-raw.csv)의 정규성 위배율 측정"
   ]
  },
  {
   "cell_type": "code",
   "execution_count": null,
   "metadata": {
    "colab": {
     "base_uri": "https://localhost:8080/"
    },
    "id": "4fc59b39",
    "outputId": "c9cc1a9e-cf2d-4333-daa5-5ed06d6e43a9"
   },
   "outputs": [],
   "source": [
    "nv.get_normality_violation('height-raw.csv')"
   ]
  },
  {
   "cell_type": "markdown",
   "metadata": {},
   "source": [
    "정규성 위배율 보정 모듈 수행. 입력인자(보정전 데이터셋 파일명, 보정후 결과 데이터셋 파일명)"
   ]
  },
  {
   "cell_type": "code",
   "execution_count": null,
   "metadata": {
    "colab": {
     "base_uri": "https://localhost:8080/"
    },
    "id": "wse4TeJwh-F0",
    "outputId": "447e21de-fa9a-452f-c2be-68b13cfcdaf3"
   },
   "outputs": [],
   "source": [
    "nv.correct_normality_violation('height-raw.csv', 'height-good.csv')"
   ]
  },
  {
   "cell_type": "markdown",
   "metadata": {},
   "source": [
    "보정된 데이터셋의 정규성 위배율 측정"
   ]
  },
  {
   "cell_type": "code",
   "execution_count": null,
   "metadata": {
    "colab": {
     "base_uri": "https://localhost:8080/"
    },
    "id": "0628d89c",
    "outputId": "f204d3b6-c1af-4194-e5bc-ff5c9a9256b7"
   },
   "outputs": [],
   "source": [
    "nv.get_normality_violation('height-good.csv')"
   ]
  }
 ],
 "metadata": {
  "colab": {
   "provenance": []
  },
  "kernelspec": {
   "display_name": "Python 3 (ipykernel)",
   "language": "python",
   "name": "python3"
  },
  "language_info": {
   "codemirror_mode": {
    "name": "ipython",
    "version": 3
   },
   "file_extension": ".py",
   "mimetype": "text/x-python",
   "name": "python",
   "nbconvert_exporter": "python",
   "pygments_lexer": "ipython3",
   "version": "3.8.10"
  }
 },
 "nbformat": 4,
 "nbformat_minor": 5
}
