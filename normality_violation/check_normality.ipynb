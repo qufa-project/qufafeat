{
 "cells": [
  {
   "cell_type": "code",
   "execution_count": 1,
   "metadata": {
    "id": "64cfec5b"
   },
   "outputs": [],
   "source": [
    "# 라이브러리 \n",
    "import os \n",
    "import numpy as np\n",
    "import pandas as pd\n",
    "\n",
    "from scipy.stats import shapiro, kstest, skew, kurtosis \n"
   ]
  },
  {
   "cell_type": "code",
   "execution_count": 2,
   "metadata": {
    "id": "3b8e6547"
   },
   "outputs": [],
   "source": [
    "def load_csvfile(path_csvfile: str):\n",
    "    file = pd.read_csv(path_csvfile, index_col=0)\n",
    "    return file"
   ]
  },
  {
   "cell_type": "code",
   "execution_count": 3,
   "metadata": {
    "id": "7e214009"
   },
   "outputs": [],
   "source": [
    "# 정규성 판단 함수\n",
    "def ec_is_norm(input_data):\n",
    "    \"\"\"\n",
    "    [ Shapiro-Wilk Test, Kolmogorov-Smirnov Test ]\n",
    "    It's the most powerful test to check the normality of a variable.\n",
    "    IF the p-value <= 0.05 THEN we assume the distribution of our variable is not normal/gaussian.\n",
    "    IF the p-value > 0.05 THEN we assume the distribution of our variable is normal/gaussian.\n",
    "    \"\"\"\n",
    "    if len(input_data) <= 2000:\n",
    "        # do Shapiro Test\n",
    "        statistic, p_value = shapiro(input_data)\n",
    "        s = skew(input_data)\n",
    "        k = kurtosis(input_data)\n",
    "\n",
    "        # passed test\n",
    "        if p_value > 0.05 or (abs(s) < 2 and abs(k) < 2): \n",
    "            df_data = pd.DataFrame(input_data, columns=['data'])\n",
    "            df_data['result'] = [True for i in range(df_data.shape[0])]\n",
    "            '''\n",
    "            [ IQR method ] \n",
    "            It's the general method to detect outlier data\n",
    "            '''\n",
    "            level_q1 = df_data['data'].quantile(0.25)\n",
    "            level_q3 = df_data['data'].quantile(0.75)\n",
    "            iqr = level_q3 - level_q1\n",
    "\n",
    "            df_data.loc[(df_data['data'] > level_q3 + (1.5 * iqr)) | (df_data['data'] < level_q1 - (1.5 * iqr)), 'result'] = False\n",
    "            return list(df_data['result'])\n",
    "\n",
    "        else:  # failed test\n",
    "            return [False for i in range(len(input_data))]\n",
    "\n",
    "    else: # input size more than 2000\n",
    "        statistic, p_value = kstest(input_data, 'norm')\n",
    "        s = skew(input_data)\n",
    "        k = kurtosis(input_data)\n",
    "        \n",
    "        # passed test\n",
    "        if p_value > 0.05 or (abs(s) < 2 and abs(k) < 2):\n",
    "            df_data = pd.DataFrame(input_data, columns=['data'])\n",
    "            df_data['result'] = [True for i in range(df_data.shape[0])]\n",
    "            '''\n",
    "            [ IQR method ] \n",
    "            It's the general method to detect outlier data\n",
    "            '''\n",
    "            level_q1 = df_data['data'].quantile(0.25)\n",
    "            level_q3 = df_data['data'].quantile(0.75)\n",
    "            iqr = level_q3 - level_q1\n",
    "\n",
    "            df_data.loc[(df_data['data'] > level_q3 + (1.5 * iqr)) | (df_data['data'] < level_q1 - (1.5 * iqr)), 'result'] = False\n",
    "\n",
    "            return list(df_data['result'])\n",
    "        else: # failed test\n",
    "            return [False for i in range(len(input_data))]\n",
    "            "
   ]
  },
  {
   "cell_type": "code",
   "execution_count": 4,
   "metadata": {
    "id": "e49b16a3"
   },
   "outputs": [],
   "source": [
    "# 정규성 위배율 측정 함수 \n",
    "def get_normality_violation(filename):\n",
    "  data = load_csvfile(filename)\n",
    "  input_data = data['height'].to_list()\n",
    "            \n",
    "  result = ec_is_norm(input_data)\n",
    "\n",
    "  df_result = pd.DataFrame(result, columns={'result'})\n",
    "\n",
    "  num_of_correct_rows = len(df_result.loc[df_result['result'] == True])\n",
    "  num_of_except_rows = len(df_result.loc[df_result['result'] == False])\n",
    "\n",
    "  normality_violation_rate = 100 - (num_of_correct_rows / len(df_result) * 100)\n",
    "\n",
    "  print('\\n**************************************************')\n",
    "  if num_of_correct_rows == 0:\n",
    "    print('주어진 데이터는 정규분포를 따르지 않습니다.')\n",
    "  else:\n",
    "    print(f'정규성 위배율: {normality_violation_rate:.2f}%')\n",
    "    print('**************************************************')\n",
    "     \n",
    "    "
   ]
  },
  {
   "cell_type": "code",
   "execution_count": 5,
   "metadata": {
    "id": "ff3a7cae"
   },
   "outputs": [],
   "source": [
    "# 정규성 위배율 보정 함수 \n",
    "def correct_normality_violation(input_filename, output_filename):\n",
    "    input_data = pd.read_csv(input_filename, index_col=0)\n",
    "    df_temp = input_data.copy()\n",
    "    df_temp.rename(columns={input_data.columns[0]: 'data'}, inplace=True)\n",
    "\n",
    "    \"\"\"\n",
    "    [ Shapiro-Wilk Test, Kolmogorov-Smirnov Test ]\n",
    "    It's the most powerful test to check the normality of a variable.\n",
    "    IF the p-value <= 0.05 THEN we assume the distribution of our variable is not normal/gaussian.\n",
    "    IF the p-value > 0.05 THEN we assume the distribution of our variable is normal/gaussian.\n",
    "    \"\"\"\n",
    "    \n",
    "    if len(input_data) <= 2000:\n",
    "        # do Shapiro Test\n",
    "        statistic, p_value = shapiro(input_data)\n",
    "        s = skew(input_data)\n",
    "        k = kurtosis(input_data)\n",
    "\n",
    "        if p_value > 0.05 or (abs(s) < 2 and abs(k) < 2): # passed test\n",
    "            '''\n",
    "            [ IQR method ]\n",
    "            It's the general method to detect outlier data\n",
    "            '''\n",
    "            level_q1 = df_temp['data'].quantile(0.25)\n",
    "            level_q3 = df_temp['data'].quantile(0.75)\n",
    "            iqr = level_q3 - level_q1\n",
    "\n",
    "            correction_value = df_temp.loc[(df_temp['data'] <= level_q3 + (1.5 * iqr)) | (df_temp['data'] >= level_q1 - (1.5 * iqr)), 'data'].mean()\n",
    "            input_data.iloc[(input_data.iloc[:, 0] > level_q3 + (1.5 * iqr)) | (input_data.iloc[:, 0] < level_q1 - (1.5 * iqr)), 0] = correction_value\n",
    "        \n",
    "        else:  # failed test\n",
    "            input_data.iloc[:, 0] = input_data.iloc[:, 0].mean()\n",
    "\n",
    "    else:  # input size more than 2000\n",
    "        statistic, p_value = kstest(input_data, 'norm')\n",
    "        s = skew(input_data)\n",
    "        k = kurtosis(input_data)\n",
    "\n",
    "        if p_value > 0.05 or (abs(s) < 2 and abs(k) < 2):  # passed test\n",
    "            '''\n",
    "            [ IQR method ]\n",
    "            It's the general method to detect outlier data\n",
    "            '''\n",
    "            level_q1 = df_temp['data'].quantile(0.25)\n",
    "            level_q3 = df_temp['data'].quantile(0.75)\n",
    "            iqr = level_q3 - level_q1\n",
    "\n",
    "            correction_value = df_temp.loc[(df_temp['data'] <= level_q3 + (1.5 * iqr)) | (df_temp['data'] >= level_q1 - (1.5 * iqr)), 'data'].mean()\n",
    "            input_data.iloc[(input_data.iloc[:, 0] > level_q3 + (1.5 * iqr)) | (input_data.iloc[:, 0] < level_q1 - (1.5 * iqr)), 0] = correction_value\n",
    "\n",
    "        else:  # failed test\n",
    "            input_data.iloc[:, 0] = input_data.iloc[:, 0].mean()\n",
    "\n",
    "    input_data.to_csv(output_filename)\n",
    "    print('[정규성 위배 오류가 보정된 파일 생성 및 저장]: ' + output_filename)\n",
    "    print()\n"
   ]
  },
  {
   "cell_type": "markdown",
   "metadata": {
    "id": "BIDA_Lr5iKa7"
   },
   "source": [
    "### 정규성 위배율 측정"
   ]
  },
  {
   "cell_type": "code",
   "execution_count": 6,
   "metadata": {
    "id": "79e27619"
   },
   "outputs": [],
   "source": [
    "# 파일 경로 지정\n",
    "dir = './'\n"
   ]
  },
  {
   "cell_type": "code",
   "execution_count": 7,
   "metadata": {
    "colab": {
     "base_uri": "https://localhost:8080/"
    },
    "id": "16fcc22a",
    "outputId": "81b8fb44-a56a-4f40-e99b-f36e9f8972bd"
   },
   "outputs": [
    {
     "name": "stdout",
     "output_type": "stream",
     "text": [
      "\n",
      "**************************************************\n",
      "정규성 위배율: 0.03%\n",
      "**************************************************\n"
     ]
    }
   ],
   "source": [
    "# 정규성 위배율 측정 \n",
    "filename1 = 'height_org.csv'\n",
    "get_normality_violation(filename1)"
   ]
  },
  {
   "cell_type": "markdown",
   "metadata": {
    "id": "vs7SkNWBiDow"
   },
   "source": [
    "### 정규성 위배율 보정"
   ]
  },
  {
   "cell_type": "code",
   "execution_count": 8,
   "metadata": {
    "colab": {
     "base_uri": "https://localhost:8080/"
    },
    "id": "4fc59b39",
    "outputId": "c9cc1a9e-cf2d-4333-daa5-5ed06d6e43a9"
   },
   "outputs": [
    {
     "name": "stdout",
     "output_type": "stream",
     "text": [
      "\n",
      "**************************************************\n",
      "정규성 위배율: 1.51%\n",
      "**************************************************\n"
     ]
    }
   ],
   "source": [
    "filename2 = 'height-raw.csv'\n",
    "filename3 = 'height-good.csv'\n",
    "\n",
    "# 정규성 위배율 보정 전 파일의 정규성 위배율 확인\n",
    "get_normality_violation(filename2)"
   ]
  },
  {
   "cell_type": "code",
   "execution_count": 9,
   "metadata": {
    "colab": {
     "base_uri": "https://localhost:8080/"
    },
    "id": "wse4TeJwh-F0",
    "outputId": "447e21de-fa9a-452f-c2be-68b13cfcdaf3"
   },
   "outputs": [
    {
     "name": "stdout",
     "output_type": "stream",
     "text": [
      "[정규성 위배 오류가 보정된 파일 생성 및 저장]: height-good.csv\n",
      "\n"
     ]
    }
   ],
   "source": [
    "# 정규성 위배율 보정 수행\n",
    "correct_normality_violation(filename2, filename3)"
   ]
  },
  {
   "cell_type": "code",
   "execution_count": 10,
   "metadata": {
    "colab": {
     "base_uri": "https://localhost:8080/"
    },
    "id": "0628d89c",
    "outputId": "f204d3b6-c1af-4194-e5bc-ff5c9a9256b7"
   },
   "outputs": [
    {
     "name": "stdout",
     "output_type": "stream",
     "text": [
      "\n",
      "**************************************************\n",
      "정규성 위배율: 0.01%\n",
      "**************************************************\n"
     ]
    }
   ],
   "source": [
    "# 정규성 위배율 보정 후, 보정된 파일의 정규성 위배율 확인\n",
    "get_normality_violation(filename3)"
   ]
  },
  {
   "cell_type": "code",
   "execution_count": null,
   "metadata": {},
   "outputs": [],
   "source": []
  }
 ],
 "metadata": {
  "colab": {
   "provenance": []
  },
  "kernelspec": {
   "display_name": "Python 3 (ipykernel)",
   "language": "python",
   "name": "python3"
  },
  "language_info": {
   "codemirror_mode": {
    "name": "ipython",
    "version": 3
   },
   "file_extension": ".py",
   "mimetype": "text/x-python",
   "name": "python",
   "nbconvert_exporter": "python",
   "pygments_lexer": "ipython3",
   "version": "3.8.10"
  }
 },
 "nbformat": 4,
 "nbformat_minor": 5
}
